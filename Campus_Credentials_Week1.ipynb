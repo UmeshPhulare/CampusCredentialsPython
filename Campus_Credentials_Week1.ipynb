{
  "nbformat": 4,
  "nbformat_minor": 0,
  "metadata": {
    "colab": {
      "provenance": [],
      "collapsed_sections": [
        "FvDdykzhEfdo",
        "HQnqwjCGWHZc",
        "GMnr8PjVtMLJ",
        "0kok6YPuzkTG",
        "t8sV6uOXNWys",
        "JnC6c3GFstS7"
      ],
      "toc_visible": true,
      "include_colab_link": true
    },
    "kernelspec": {
      "name": "python3",
      "display_name": "Python 3"
    },
    "language_info": {
      "name": "python"
    }
  },
  "cells": [
    {
      "cell_type": "markdown",
      "metadata": {
        "id": "view-in-github",
        "colab_type": "text"
      },
      "source": [
        "<a href=\"https://colab.research.google.com/github/UmeshPhulare/CampusCredentialsPython/blob/main/Campus_Credentials_Week1.ipynb\" target=\"_parent\"><img src=\"https://colab.research.google.com/assets/colab-badge.svg\" alt=\"Open In Colab\"/></a>"
      ]
    },
    {
      "cell_type": "markdown",
      "source": [
        "# **Exception Handling**"
      ],
      "metadata": {
        "id": "FvDdykzhEfdo"
      }
    },
    {
      "cell_type": "code",
      "source": [
        "# basics of exception handling\n",
        "try:\n",
        "    n1=int(input(\"Enter value : \"))\n",
        "    n2 = int(input(\"Enter 2nd value : \"))\n",
        "    print(n1/n2)\n",
        "except ValueError as message:\n",
        "    print(\"Wrong Input Type : \",message)\n",
        "except ZeroDivisionError as message:\n",
        "    print(\"Cannot divide by 0 : \",message)\n",
        "except:\n",
        "    #if written before the other except block throws an syntax error\n",
        "    print(\"Normal any other Error\")"
      ],
      "metadata": {
        "colab": {
          "base_uri": "https://localhost:8080/"
        },
        "id": "SzTule6wBxbq",
        "outputId": "84e3bf68-dd3e-4195-b614-182b9cbc2d28"
      },
      "execution_count": null,
      "outputs": [
        {
          "output_type": "stream",
          "name": "stdout",
          "text": [
            "Enter value : 1\n",
            "Enter 2nd value : 1\n",
            "1.0\n"
          ]
        }
      ]
    },
    {
      "cell_type": "code",
      "source": [
        "# multiple exceptions in single block\n",
        "try:\n",
        "  n1=int(input())\n",
        "  n2=int(input())\n",
        "  print(n1//n2)\n",
        "except (ValueError,ZeroDivisionError) as msg:\n",
        "  print(\"Error!! : \",msg)\n",
        "else:   #exception with else block\n",
        "  print(\"Everything is Good !\")"
      ],
      "metadata": {
        "colab": {
          "base_uri": "https://localhost:8080/"
        },
        "id": "VVFtISSvGnNm",
        "outputId": "709328a8-1895-47f8-b43a-46f05f20a100"
      },
      "execution_count": null,
      "outputs": [
        {
          "output_type": "stream",
          "name": "stdout",
          "text": [
            "1\n",
            "2\n",
            "0\n",
            "Everything is Good !\n"
          ]
        }
      ]
    },
    {
      "cell_type": "code",
      "source": [
        "# exception with else and                                                                                                                                                                                                                                                                                                                                                                                                                                                                                                                                                                                                                 finally block\n",
        "try:\n",
        "  n1=int(input())\n",
        "  n2=int(input())\n",
        "  print(n1//n2)\n",
        "except (ValueError,ZeroDivisionError) as msg:\n",
        "  print(\"Error!! : \",msg)\n",
        "else:\n",
        "  print(\"Everything is Good !\")\n",
        "finally:    # block which will be executed no matter what\n",
        "  print(\"The Program Executed Successfully\")"
      ],
      "metadata": {
        "colab": {
          "base_uri": "https://localhost:8080/"
        },
        "id": "cp79-XXTJUr0",
        "outputId": "1bba47ff-6d84-4921-cb17-72c0f2a59036"
      },
      "execution_count": null,
      "outputs": [
        {
          "output_type": "stream",
          "name": "stdout",
          "text": [
            "1\n",
            "2\n",
            "0\n",
            "Everything is Good !\n",
            "The Program Executed Successfully\n"
          ]
        }
      ]
    },
    {
      "cell_type": "code",
      "source": [
        "# nested try block\n",
        "try:\n",
        "  n1=int(input())\n",
        "  n2=int(input())\n",
        "  try:\n",
        "    print(n1//n2)\n",
        "  except ZeroDivisionError as msg:\n",
        "    print(\"Error : \",msg)\n",
        "except ValueError as msg:\n",
        "  print(\"Error : \",msg)"
      ],
      "metadata": {
        "colab": {
          "base_uri": "https://localhost:8080/"
        },
        "id": "3H58JDeoMuDu",
        "outputId": "fb38b52c-7436-4fb4-a85d-2fafb97fb3a2"
      },
      "execution_count": null,
      "outputs": [
        {
          "output_type": "stream",
          "name": "stdout",
          "text": [
            "12\n",
            "0\n",
            "Error :  integer division or modulo by zero\n"
          ]
        }
      ]
    },
    {
      "cell_type": "markdown",
      "source": [
        "# **File Handling**"
      ],
      "metadata": {
        "id": "HQnqwjCGWHZc"
      }
    },
    {
      "cell_type": "code",
      "source": [
        "# creating a file\n",
        "f=open(\"file1.txt\",'w')\n",
        "print(\"name : \",f.name)\n",
        "print(\"Mode : \",f.mode)\n",
        "print(\"readable : \",f.readable())\n",
        "print(\"writable : \",f.writable())\n",
        "print(\"Is Closed : \",f.closed)\n",
        "f.close()\n",
        "print(\"Is Closed : \",f.closed)"
      ],
      "metadata": {
        "id": "dJgHsFNCNQk1",
        "colab": {
          "base_uri": "https://localhost:8080/"
        },
        "outputId": "8a060b42-59fb-4161-af17-b7d3fd4e4c98"
      },
      "execution_count": null,
      "outputs": [
        {
          "output_type": "stream",
          "name": "stdout",
          "text": [
            "name :  file1.txt\n",
            "Mode :  w\n",
            "readable :  False\n",
            "writable :  True\n",
            "Is Closed :  False\n",
            "Is Closed :  True\n"
          ]
        }
      ]
    },
    {
      "cell_type": "code",
      "source": [
        "# Writing data to a file\n",
        "f=open(\"file1.txt\",'w')\n",
        "f.write(\"Hey HEllow\\nHow are you !\")\n",
        "f.close()\n",
        "print(\"Operation Done !!\")"
      ],
      "metadata": {
        "colab": {
          "base_uri": "https://localhost:8080/"
        },
        "id": "UwUksCBEUp35",
        "outputId": "fa619fa4-dace-47fd-f32d-6310c72a10ca"
      },
      "execution_count": null,
      "outputs": [
        {
          "output_type": "stream",
          "name": "stdout",
          "text": [
            "Operation Done !!\n"
          ]
        }
      ]
    },
    {
      "cell_type": "code",
      "source": [
        "# Appending data to a file\n",
        "f=open(\"file1.txt\",'a')\n",
        "f.write(\"\\nThis is new Data Appended\")\n",
        "f.close()\n",
        "print(\"Operation Done !!\")"
      ],
      "metadata": {
        "colab": {
          "base_uri": "https://localhost:8080/"
        },
        "id": "zBUP67q2Vua7",
        "outputId": "a4d9dc09-7ec9-4ed4-a56a-50084e2ca7e7"
      },
      "execution_count": null,
      "outputs": [
        {
          "output_type": "stream",
          "name": "stdout",
          "text": [
            "Operation Done !!\n"
          ]
        }
      ]
    },
    {
      "cell_type": "code",
      "source": [
        "# reading data from the file\n",
        "f=open(\"file1.txt\",'r')\n",
        "print(f.read())"
      ],
      "metadata": {
        "colab": {
          "base_uri": "https://localhost:8080/"
        },
        "id": "HDJ5eW-XWQnP",
        "outputId": "52284ca9-d28c-49f3-cc22-d4880dcd71a2"
      },
      "execution_count": null,
      "outputs": [
        {
          "output_type": "stream",
          "name": "stdout",
          "text": [
            "Hey HEllow\n",
            "How are you !\n",
            "This is new Data Appended\n"
          ]
        }
      ]
    },
    {
      "cell_type": "code",
      "source": [
        "# writelines() function (writes a sequence of strings at once)\n",
        "f=open('file2.txt','w')\n",
        "l1=['umesh','ashok','phulare']\n",
        "f.writelines(l1)          # any collection datatype can be mentioned here\n",
        "f.close()\n",
        "print(\"done\")"
      ],
      "metadata": {
        "colab": {
          "base_uri": "https://localhost:8080/"
        },
        "id": "p5a1WGAUWqWV",
        "outputId": "b8bd7493-e334-4b12-87db-74c656498cab"
      },
      "execution_count": null,
      "outputs": [
        {
          "output_type": "stream",
          "name": "stdout",
          "text": [
            "done\n"
          ]
        }
      ]
    },
    {
      "cell_type": "markdown",
      "source": [
        "readline reads a single line from a file\n",
        "readlines / read reads entire file"
      ],
      "metadata": {
        "id": "u33rWDbJZBI9"
      }
    },
    {
      "cell_type": "code",
      "source": [
        "# using the with statement\n",
        "with open('file3.txt','w') as f:\n",
        "  f.write('amit\\n')\n",
        "  f.write('ajit\\n')\n",
        "  f.write('sujit\\n')\n",
        "  print(\"file closed : \",f.closed)\n",
        "print(\"file closed : \",f.closed)"
      ],
      "metadata": {
        "colab": {
          "base_uri": "https://localhost:8080/"
        },
        "id": "inVc5YiBXfs3",
        "outputId": "5f611a8f-7786-4c65-e054-2df4e13969b2"
      },
      "execution_count": null,
      "outputs": [
        {
          "output_type": "stream",
          "name": "stdout",
          "text": [
            "file closed :  False\n",
            "file closed :  True\n"
          ]
        }
      ]
    },
    {
      "cell_type": "code",
      "source": [
        "# reading from file and appending in list\n",
        "f3=open('file3.txt','r')\n",
        "txt = f3.readlines()\n",
        "l1=[]\n",
        "for i in txt:\n",
        "  l1.append(i.replace(\"\\n\",''))\n",
        "print(l1)"
      ],
      "metadata": {
        "colab": {
          "base_uri": "https://localhost:8080/"
        },
        "id": "BPSk1a-raJKg",
        "outputId": "27e6b344-b531-453c-f681-58243e800e01"
      },
      "execution_count": null,
      "outputs": [
        {
          "output_type": "stream",
          "name": "stdout",
          "text": [
            "['amit', 'ajit', 'sujit']\n"
          ]
        }
      ]
    },
    {
      "cell_type": "markdown",
      "source": [
        "information about tell() and seek() functions"
      ],
      "metadata": {
        "id": "1pvl3PhFbU3x"
      }
    },
    {
      "cell_type": "code",
      "source": [
        "# csv file code\n",
        "import csv\n",
        "f=open('students.csv','a',newline='')\n",
        "a=csv.writer(f)         #returns a writeable object\n",
        "a.writerow(['studid','rollno','name','mobile_no'])    #column heading\n",
        "f.close()\n",
        "print(\"Done\")"
      ],
      "metadata": {
        "colab": {
          "base_uri": "https://localhost:8080/"
        },
        "id": "OSfvgJKabYVZ",
        "outputId": "cdde10a2-e6b3-4e13-8207-1650212654b9"
      },
      "execution_count": null,
      "outputs": [
        {
          "output_type": "stream",
          "name": "stdout",
          "text": [
            "Done\n"
          ]
        }
      ]
    },
    {
      "cell_type": "code",
      "source": [
        "# students record\n",
        "import csv\n",
        "f=open('students.csv','a',newline='')\n",
        "a=csv.writer(f)\n",
        "n=int(input(\"Enter The No of records to be inserted : \"))\n",
        "for i in range(n):\n",
        "  print(\"\\nFor Student \",(i+1))\n",
        "  sid=int(input(\"Enter Student ID : \"))\n",
        "  rno=int(input(\"Enter Roll No : \"))\n",
        "  name=input(\"Enter Name : \")\n",
        "  mobileno=int(input(\"Enter Mobile No : \"))\n",
        "  a.writerow([sid,rno,name,mobileno])\n",
        "f.close()\n",
        "print(\"Done\")"
      ],
      "metadata": {
        "colab": {
          "base_uri": "https://localhost:8080/"
        },
        "id": "VyUchwuNdOL2",
        "outputId": "e3212555-6a8f-4c5f-8567-e031cd8b052e"
      },
      "execution_count": null,
      "outputs": [
        {
          "output_type": "stream",
          "name": "stdout",
          "text": [
            "Enter The No of records to be inserted : 2\n",
            "\n",
            "For Student  1\n",
            "Enter Student ID : 12121\n",
            "Enter Roll No : 23\n",
            "Enter Name : \n",
            "Enter Mobile No : 21212121212\n",
            "\n",
            "For Student  2\n",
            "Enter Student ID : 121221\n",
            "Enter Roll No : 232\n",
            "Enter Name : Umesh\n",
            "Enter Mobile No : 323233323332\n",
            "Done\n"
          ]
        }
      ]
    },
    {
      "cell_type": "code",
      "source": [
        "# Students Marks record\n",
        "import csv\n",
        "f=open('students2.csv','w',newline='')\n",
        "a=csv.writer(f)\n",
        "a.writerow(['ID','Name','StudentMail','Mob_No','Sub1_Marks','Sub2_Marks','Sub3_Marks','Sub4_Marks','Sub5_Marks','Total_Marks','Percentage','Result'])    #column heading\n",
        "f.close()\n",
        "print(\"Done\")"
      ],
      "metadata": {
        "colab": {
          "base_uri": "https://localhost:8080/"
        },
        "id": "M948aP-VfYBY",
        "outputId": "f97a7c12-a7bc-4e2b-eb4c-17d5d9ecab13"
      },
      "execution_count": null,
      "outputs": [
        {
          "output_type": "stream",
          "name": "stdout",
          "text": [
            "Done\n"
          ]
        }
      ]
    },
    {
      "cell_type": "code",
      "source": [
        "# students marks records\n",
        "import csv\n",
        "f=open('students2.csv','a',newline='')\n",
        "a=csv.writer(f)\n",
        "sid=int(input(\"Enter Student ID : \"))\n",
        "name=input(\"Enter Name : \")\n",
        "email=input(\"Enter Email : \")\n",
        "mobileno=int(input(\"Enter Mobile No : \"))\n",
        "m1=int(input(\"Enter Sub 1 Marks : \"))\n",
        "m2=int(input(\"Enter Sub 2 Marks : \"))\n",
        "m3=int(input(\"Enter Sub 3 Marks : \"))\n",
        "m4=int(input(\"Enter Sub 4 Marks : \"))\n",
        "m5=int(input(\"Enter Sub 5 Marks : \"))\n",
        "total=m1+m2+m3+m4+m5\n",
        "percentage=(total/500)*100\n",
        "if any(m < 40 for m in [m1, m2, m3]):\n",
        "  result='FAIL'\n",
        "else:\n",
        "  result='PASS5'\n",
        "a.writerow([sid,name,email,mobileno,m1,m2,m3,m4,m5,total,percentage,result])\n",
        "f.close()\n",
        "print(\"Done\")"
      ],
      "metadata": {
        "colab": {
          "base_uri": "https://localhost:8080/"
        },
        "id": "0lJcGpebgcuh",
        "outputId": "69805152-e4ab-436d-e61d-aa2a89e61c60"
      },
      "execution_count": null,
      "outputs": [
        {
          "output_type": "stream",
          "name": "stdout",
          "text": [
            "Enter Student ID : 12\n",
            "Enter Name : Umesh\n",
            "Enter Email : abc@gmail.com\n",
            "Enter Mobile No : 1234567890\n",
            "Enter Sub 1 Marks : 56\n",
            "Enter Sub 2 Marks : 78\n",
            "Enter Sub 3 Marks : 89\n",
            "Enter Sub 4 Marks : 87\n",
            "Enter Sub 5 Marks : 76\n",
            "Done\n"
          ]
        }
      ]
    },
    {
      "cell_type": "code",
      "source": [
        "from google.colab import drive\n",
        "drive.mount('/content/drive')"
      ],
      "metadata": {
        "id": "nCplB0abT_dB"
      },
      "execution_count": null,
      "outputs": []
    },
    {
      "cell_type": "code",
      "source": [
        "# binary file readding\n",
        "f1=open('image1.jpg','rb')\n",
        "f2=open('image2.jpg','wb')\n",
        "f2.write(f1.read())\n",
        "print(\"Done\")\n",
        "f1.close()\n",
        "f2.close()"
      ],
      "metadata": {
        "colab": {
          "base_uri": "https://localhost:8080/"
        },
        "id": "u4qaJRJNl1RM",
        "outputId": "254bd4ea-7746-47c8-87d9-443d9f1fa8cf"
      },
      "execution_count": null,
      "outputs": [
        {
          "output_type": "stream",
          "name": "stdout",
          "text": [
            "Done\n"
          ]
        }
      ]
    },
    {
      "cell_type": "markdown",
      "source": [
        "# **Logging with Pyhton**"
      ],
      "metadata": {
        "id": "GMnr8PjVtMLJ"
      }
    },
    {
      "cell_type": "code",
      "source": [
        "import logging\n",
        "logging.basicConfig(filename='newfile.txt',level=logging.DEBUG)\n",
        "logging.debug('this indicates the debugging information')\n",
        "logging.info('this indicates the important info')\n",
        "logging.error('this indicates the error information')\n",
        "logging.warning('this indicates the crictical information')\n",
        "logging.critical('this indicates the critical info')"
      ],
      "metadata": {
        "colab": {
          "base_uri": "https://localhost:8080/"
        },
        "id": "-A0tD-hHm1qL",
        "outputId": "b5c578b3-f5e7-4a10-ee7d-623f9dc68a16"
      },
      "execution_count": null,
      "outputs": [
        {
          "output_type": "stream",
          "name": "stderr",
          "text": [
            "ERROR:root:this indicates the error information\n",
            "WARNING:root:this indicates the crictical information\n",
            "CRITICAL:root:this indicates the critical info\n"
          ]
        }
      ]
    },
    {
      "cell_type": "code",
      "source": [
        "import logging as log\n",
        "log.basicConfig(filename='newfile.txt',level=log.DEBUG)\n",
        "try:\n",
        "  n1=int(input())\n",
        "  n2=int(input())\n",
        "  print(n1//n2)\n",
        "except ZeroDivisionError as msg:\n",
        "  print(\"Error : \",msg)\n",
        "  log.exception(msg)\n"
      ],
      "metadata": {
        "colab": {
          "base_uri": "https://localhost:8080/"
        },
        "id": "8CL_gj9evoW9",
        "outputId": "6c36924c-6f1f-4b7c-d5a2-95e3e80a4799"
      },
      "execution_count": null,
      "outputs": [
        {
          "name": "stdout",
          "output_type": "stream",
          "text": [
            "12\n",
            "0\n"
          ]
        },
        {
          "output_type": "stream",
          "name": "stderr",
          "text": [
            "ERROR:root:integer division or modulo by zero\n",
            "Traceback (most recent call last):\n",
            "  File \"<ipython-input-36-ae10775257ef>\", line 6, in <cell line: 0>\n",
            "    print(n1//n2)\n",
            "          ~~^^~~\n",
            "ZeroDivisionError: integer division or modulo by zero\n"
          ]
        },
        {
          "output_type": "stream",
          "name": "stdout",
          "text": [
            "Error :  integer division or modulo by zero\n"
          ]
        }
      ]
    },
    {
      "cell_type": "markdown",
      "source": [
        "# **Normal Questions**"
      ],
      "metadata": {
        "id": "0kok6YPuzkTG"
      }
    },
    {
      "cell_type": "code",
      "source": [
        "# append 0 at end\n",
        "l1=[0,1,0,3,12]\n",
        "n=l1.count(0)\n",
        "for i in range(n):\n",
        "  l1.remove(0)\n",
        "  l1.append(0)\n",
        "print(l1)"
      ],
      "metadata": {
        "colab": {
          "base_uri": "https://localhost:8080/"
        },
        "id": "KYV11HiSyc1L",
        "outputId": "2fbbf4e3-fde3-4e90-e5a4-c01188ca9df1"
      },
      "execution_count": null,
      "outputs": [
        {
          "output_type": "stream",
          "name": "stdout",
          "text": [
            "[1, 3, 12, 0, 0]\n"
          ]
        }
      ]
    },
    {
      "cell_type": "code",
      "source": [
        "# append 0 at beginning\n",
        "l1=[0,1,0,3,12]\n",
        "n=l1.count(0)\n",
        "for i in range(n):\n",
        "  l1.remove(0)\n",
        "  l1.append(0)\n",
        "l1.sort()\n",
        "print(l1)"
      ],
      "metadata": {
        "colab": {
          "base_uri": "https://localhost:8080/"
        },
        "id": "7sg6AM_iz2rq",
        "outputId": "1b7a285b-5d59-4975-90ad-cb199903ec3a"
      },
      "execution_count": null,
      "outputs": [
        {
          "output_type": "stream",
          "name": "stdout",
          "text": [
            "[0, 0, 1, 3, 12]\n"
          ]
        }
      ]
    },
    {
      "cell_type": "code",
      "source": [
        "# intersection\n",
        "l1=[1,2,3]\n",
        "l2=[2,3,4]\n",
        "l3=[3,4,5]\n",
        "l4=[]\n",
        "for i in l1:\n",
        "  if i in l2 and i in l3:\n",
        "    l4.append(i)\n",
        "print(l4)"
      ],
      "metadata": {
        "colab": {
          "base_uri": "https://localhost:8080/"
        },
        "id": "rB9NRG6a0RRK",
        "outputId": "5c34d239-7d4a-4730-dedb-9c0c72540d7e"
      },
      "execution_count": null,
      "outputs": [
        {
          "output_type": "stream",
          "name": "stdout",
          "text": [
            "[3]\n"
          ]
        }
      ]
    },
    {
      "cell_type": "code",
      "source": [
        "# max frequcy of consecutives values\n",
        "l1=[1,1,0,1,1,1,0,1,1,1,1]\n",
        "max=1\n",
        "for i in range(1,len(l1)):\n",
        "  if l1[i]==l1[i-1]:\n",
        "    max+=1\n",
        "  else:\n",
        "    max=1\n",
        "print(max)"
      ],
      "metadata": {
        "colab": {
          "base_uri": "https://localhost:8080/"
        },
        "id": "7bNo2Ajj1RSo",
        "outputId": "88b75365-cb41-4591-a495-02702fcdc7a4"
      },
      "execution_count": null,
      "outputs": [
        {
          "output_type": "stream",
          "name": "stdout",
          "text": [
            "4\n"
          ]
        }
      ]
    },
    {
      "cell_type": "code",
      "source": [
        "# product of nums except self\n",
        "l1=[1,2,3,4]\n",
        "l2=[]\n",
        "for i in l1:\n",
        "  prod=1\n",
        "  for j in l1:\n",
        "    if j!=i:\n",
        "      prod*=j\n",
        "  l2.append(prod)\n",
        "print(l2)"
      ],
      "metadata": {
        "colab": {
          "base_uri": "https://localhost:8080/"
        },
        "id": "Xi09Pt9a1pBq",
        "outputId": "9d520ed6-fe10-4249-e517-a43ab4245dae"
      },
      "execution_count": null,
      "outputs": [
        {
          "output_type": "stream",
          "name": "stdout",
          "text": [
            "[24, 12, 8, 6]\n"
          ]
        }
      ]
    },
    {
      "cell_type": "code",
      "source": [
        "# find 1st non repeating element\n",
        "l1=[1,2,3,2,1,4,5]\n",
        "l2=[]\n",
        "for i in range(len(l1)-1):\n",
        "  flag=True\n",
        "  for j in range(i+1,len(l1)):\n",
        "    if l1[i]==l1[j]:\n",
        "      flag=False\n",
        "  if flag:\n",
        "    l2.append(l1[i])\n",
        "print(l2[0])"
      ],
      "metadata": {
        "colab": {
          "base_uri": "https://localhost:8080/"
        },
        "id": "VbdFyWkvHCgA",
        "outputId": "c9cf6dd8-089a-4b54-f02b-c310bc523e9b"
      },
      "execution_count": null,
      "outputs": [
        {
          "output_type": "stream",
          "name": "stdout",
          "text": [
            "3\n"
          ]
        }
      ]
    },
    {
      "cell_type": "code",
      "source": [
        "# same code using dict\n",
        "l1=[1,2,3,2,1,4,5]\n",
        "d1={}\n",
        "for i in l1:\n",
        "  d1[i]=l1.count(i)\n",
        "for key,val in d1.items():\n",
        "  if val==1:\n",
        "    print(key)\n",
        "    break"
      ],
      "metadata": {
        "colab": {
          "base_uri": "https://localhost:8080/"
        },
        "id": "JDe9k6PpIOCy",
        "outputId": "3e3af71b-2909-45a9-e881-a61a57adda31"
      },
      "execution_count": null,
      "outputs": [
        {
          "output_type": "stream",
          "name": "stdout",
          "text": [
            "3\n"
          ]
        }
      ]
    },
    {
      "cell_type": "code",
      "source": [
        "# make parts of list in specified chunks              Not done\n",
        "# l1=[1,2,3,4,5,6,7,8]\n",
        "# n=int(input())\n",
        "# rg=len(l1)//n\n",
        "# l2=[]\n",
        "# j=0\n",
        "# while j < len(l1):\n",
        "#   newllist=[]\n",
        "#   for i in range(j,j+rg+1):\n",
        "#     if i >= len(l1):\n",
        "#       break\n",
        "#     else:\n",
        "#       newllist.append(l1[i])\n",
        "#   l2.append(newllist)\n",
        "#   j+=rg\n",
        "# print(l2)\n",
        "\n",
        "\n",
        "l1=[1,2,3,4,5,6,7,8,9,10]\n",
        "n=int(input(\"Enter No of Parts : \"))\n",
        "a=len(l1)//n\n",
        "l2=[]\n",
        "for i in range(0,len(l1),a):\n",
        "  l3=[]\n",
        "  for j in range(i,i+a):\n",
        "    try:\n",
        "      l3.append(l1[j])\n",
        "    except :\n",
        "      a=l2\n",
        "\n",
        "  l2.append(l3)\n",
        "print(l2)"
      ],
      "metadata": {
        "colab": {
          "base_uri": "https://localhost:8080/",
          "height": 228
        },
        "id": "8sVWUc8NJMGP",
        "outputId": "dc2d0c93-3cf0-4ef8-fc50-b883514ec0f6"
      },
      "execution_count": null,
      "outputs": [
        {
          "name": "stdout",
          "output_type": "stream",
          "text": [
            "Enter No of Parts : 3\n"
          ]
        },
        {
          "output_type": "error",
          "ename": "IndexError",
          "evalue": "list index out of range",
          "traceback": [
            "\u001b[0;31m---------------------------------------------------------------------------\u001b[0m",
            "\u001b[0;31mIndexError\u001b[0m                                Traceback (most recent call last)",
            "\u001b[0;32m<ipython-input-2-5baea27aaba9>\u001b[0m in \u001b[0;36m<cell line: 0>\u001b[0;34m()\u001b[0m\n\u001b[1;32m     24\u001b[0m   \u001b[0ml3\u001b[0m\u001b[0;34m=\u001b[0m\u001b[0;34m[\u001b[0m\u001b[0;34m]\u001b[0m\u001b[0;34m\u001b[0m\u001b[0;34m\u001b[0m\u001b[0m\n\u001b[1;32m     25\u001b[0m   \u001b[0;32mfor\u001b[0m \u001b[0mj\u001b[0m \u001b[0;32min\u001b[0m \u001b[0mrange\u001b[0m\u001b[0;34m(\u001b[0m\u001b[0mi\u001b[0m\u001b[0;34m,\u001b[0m\u001b[0mi\u001b[0m\u001b[0;34m+\u001b[0m\u001b[0ma\u001b[0m\u001b[0;34m)\u001b[0m\u001b[0;34m:\u001b[0m\u001b[0;34m\u001b[0m\u001b[0;34m\u001b[0m\u001b[0m\n\u001b[0;32m---> 26\u001b[0;31m     \u001b[0ml3\u001b[0m\u001b[0;34m.\u001b[0m\u001b[0mappend\u001b[0m\u001b[0;34m(\u001b[0m\u001b[0ml1\u001b[0m\u001b[0;34m[\u001b[0m\u001b[0mj\u001b[0m\u001b[0;34m]\u001b[0m\u001b[0;34m)\u001b[0m\u001b[0;34m\u001b[0m\u001b[0;34m\u001b[0m\u001b[0m\n\u001b[0m\u001b[1;32m     27\u001b[0m   \u001b[0ml2\u001b[0m\u001b[0;34m.\u001b[0m\u001b[0mappend\u001b[0m\u001b[0;34m(\u001b[0m\u001b[0ml3\u001b[0m\u001b[0;34m)\u001b[0m\u001b[0;34m\u001b[0m\u001b[0;34m\u001b[0m\u001b[0m\n\u001b[1;32m     28\u001b[0m \u001b[0mprint\u001b[0m\u001b[0;34m(\u001b[0m\u001b[0ml2\u001b[0m\u001b[0;34m)\u001b[0m\u001b[0;34m\u001b[0m\u001b[0;34m\u001b[0m\u001b[0m\n",
            "\u001b[0;31mIndexError\u001b[0m: list index out of range"
          ]
        }
      ]
    },
    {
      "cell_type": "markdown",
      "source": [
        "# **OOPs**"
      ],
      "metadata": {
        "id": "t8sV6uOXNWys"
      }
    },
    {
      "cell_type": "code",
      "source": [
        "# Class and Object Creation\n",
        "class NewClass:\n",
        "  def __init__(sle):\n",
        "    print(\"Object Initialised !\")\n",
        "  def show(self):\n",
        "    print(\"Welcome\")\n",
        "obj=NewClass()\n",
        "print(obj)\n",
        "obj.show()\n",
        "obj2=NewClass()"
      ],
      "metadata": {
        "colab": {
          "base_uri": "https://localhost:8080/"
        },
        "id": "JCt3NbpHNggX",
        "outputId": "df00e4da-7b8a-4975-eeef-5a0f066b4810"
      },
      "execution_count": null,
      "outputs": [
        {
          "output_type": "stream",
          "name": "stdout",
          "text": [
            "Object Initialised !\n",
            "<__main__.NewClass object at 0x7ca05ab2f610>\n",
            "Welcome\n",
            "Object Initialised !\n"
          ]
        }
      ]
    },
    {
      "cell_type": "code",
      "source": [
        "# parameterized constructor\n",
        "class NewClass:\n",
        "  def __init__(self, name,age,rno):\n",
        "    self.name=name\n",
        "    self.age=age\n",
        "    self.rno=rno\n",
        "    print(\"Object Initialised !\")\n",
        "  def show(self):\n",
        "    print(\"Name : \",self.name)\n",
        "    print(\"Age : \",self.age)\n",
        "    print(\"Roll No : \",self.rno)\n",
        "obj=NewClass('Umesh',20,94)\n",
        "obj.show()"
      ],
      "metadata": {
        "colab": {
          "base_uri": "https://localhost:8080/"
        },
        "id": "QPX_y5XkWeZG",
        "outputId": "3ab8343a-a2b7-40e2-c0c5-c182efce109b"
      },
      "execution_count": null,
      "outputs": [
        {
          "output_type": "stream",
          "name": "stdout",
          "text": [
            "Object Initialised !\n",
            "Name :  Umesh\n",
            "Age :  20\n",
            "Roll No :  94\n"
          ]
        }
      ]
    },
    {
      "cell_type": "code",
      "source": [
        "# parameterized constructor\n",
        "class NewClass:\n",
        "  def __init__(self):\n",
        "    self.name='Umesh'\n",
        "    self.age=20\n",
        "    self.rno=94\n",
        "    print(\"Object Initialised !\")\n",
        "  def show(self):\n",
        "    print(\"Name : \",self.name)\n",
        "    print(\"Age : \",self.age)\n",
        "    print(\"Roll No : \",self.rno)\n",
        "obj=NewClass()\n",
        "obj.show()"
      ],
      "metadata": {
        "colab": {
          "base_uri": "https://localhost:8080/"
        },
        "id": "Boj8tBy9XBXK",
        "outputId": "9bf0efa0-10ee-4dc2-88cd-fc10953bbb85"
      },
      "execution_count": null,
      "outputs": [
        {
          "output_type": "stream",
          "name": "stdout",
          "text": [
            "Object Initialised !\n",
            "Name :  Umesh\n",
            "Age :  20\n",
            "Roll No :  94\n"
          ]
        }
      ]
    },
    {
      "cell_type": "code",
      "source": [
        "class CRUD:\n",
        "  def __init__(self):\n",
        "    print(\"Student Management Shstem\")\n",
        "    self.sid=[]\n",
        "    self.sname=[]\n",
        "    self.rno=[]\n",
        "    self.city=[]\n",
        "  def show(self):\n",
        "    print(\"------------------------------------------------------------------------------------------------------------\")\n",
        "    print(\"|       Student ID          |           Student Name        |         Student Roll No    |      City       |\")\n",
        "    print(\"------------------------------------------------------------------------------------------------------------\")\n",
        "    for i in range(len(self.sid)):\n",
        "      print(self.sid[i],'\\t',self.sname[i],'\\t',self.rno[i],'\\t',self.city[i])\n",
        "      print(\"------------------------------------------------------------------------------------------------------------\")\n",
        "  def update(self):\n",
        "    id=int(input(\"Enter The ID of Student Data is to be updated : \"))\n",
        "    index=-1\n",
        "    for i in range(len(self.sid)):\n",
        "      if self.sid[i]==id:\n",
        "        index=i\n",
        "        break\n",
        "    if index!=-1:\n",
        "      print(\"1.Name\\n2.Roll No\\n3. City\\n.4Exit\")\n",
        "      ch=int(input(\"What do you want to change : \"))\n",
        "      if ch==1:\n",
        "        self.sname[index]=input(\"Enter New Name : \")\n",
        "      elif ch==2:\n",
        "        self.rno[index]=int(input(\"Enter New Roll no : \"))\n",
        "      elif ch==3:\n",
        "        self.city[index]=input(\"Enter new City : \")\n",
        "      elif ch==4:\n",
        "        return\n",
        "      else:\n",
        "        print(\"Inapproriate Choice !\")\n",
        "        return\n",
        "      print(\"Data Updates Successfully !!\")\n",
        "    else:\n",
        "      print(\"Student with id \",id,\" not present !!\")\n",
        "\n",
        "  def insert_data(self):\n",
        "    self.sid.append(int(input(\"Enter ID : \")))\n",
        "    self.sname.append(input(\"Enter Name : \"))\n",
        "    self.rno.append(int(input(\"Enter Roll No : \")))\n",
        "    self.city.append(input(\"Enter City : \"))\n",
        "    print(\"Inserted Successfully !!\")\n",
        "\n",
        "  def delete(self):\n",
        "    id=int(input(\"Enter The ID of Student to be deleteed : \"))\n",
        "    index=-1\n",
        "    for i in range(len(self.sid)):\n",
        "      if id==self.sid[i]:\n",
        "        index=i\n",
        "        break\n",
        "    if index!=-1:\n",
        "      self.sid.remove(self.sid[index])\n",
        "      self.sname.remove(self.sname[index])\n",
        "      self.rno.remove(self.rno[index])\n",
        "      self.city.remove(self.city[index])\n",
        "      print(\"Record Deleted Successfully !!\")\n",
        "    else:\n",
        "      print(\"ID not present !!\")\n",
        "\n",
        "obj=CRUD()\n",
        "choice=0\n",
        "while choice!=5:\n",
        "  print(\"1.ADD DATA\\n2.DISPALY DATA\\n3.DELETE DATA\\n4.UPDATE DATA\\n5.EXIT\")\n",
        "  choice=int(input(\"Enter Your Choice : \"))\n",
        "  if choice==1:\n",
        "    obj.insert_data()\n",
        "  elif choice==2:\n",
        "    obj.show()\n",
        "  elif choice==3:\n",
        "    obj.delete()\n",
        "  elif choice==4:\n",
        "    obj.update()\n",
        "  elif choice==5:\n",
        "    break;\n",
        "  else:\n",
        "    print(\"Enter Appropriate Choice !!\")"
      ],
      "metadata": {
        "colab": {
          "base_uri": "https://localhost:8080/"
        },
        "id": "NPhFpjo5aiJ9",
        "outputId": "e72ef0d3-b34c-4096-a5e9-555aa270c2e4"
      },
      "execution_count": null,
      "outputs": [
        {
          "name": "stdout",
          "output_type": "stream",
          "text": [
            "Student Management Shstem\n",
            "1.ADD DATA\n",
            "2.DISPALY DATA\n",
            "3.DELETE DATA\n",
            "4.UPDATE DATA\n",
            "5.EXIT\n",
            "Enter Your Choice : 1\n",
            "Enter ID : 1234\n",
            "Enter Name : Umesh\n",
            "Enter Roll No : 94\n",
            "Enter City : Thane\n",
            "Inserted Successfully !!\n",
            "1.ADD DATA\n",
            "2.DISPALY DATA\n",
            "3.DELETE DATA\n",
            "4.UPDATE DATA\n",
            "5.EXIT\n",
            "Enter Your Choice : 2\n",
            "------------------------------------------------------------------------------------------------------------\n",
            "|       Student ID          |           Student Name        |         Student Roll No    |      City       |\n",
            "------------------------------------------------------------------------------------------------------------\n",
            "1234 \t Umesh \t 94 \t Thane\n",
            "------------------------------------------------------------------------------------------------------------\n",
            "1.ADD DATA\n",
            "2.DISPALY DATA\n",
            "3.DELETE DATA\n",
            "4.UPDATE DATA\n",
            "5.EXIT\n",
            "Enter Your Choice : 4\n",
            "Enter The ID of Student Data is to be updated : 1234\n",
            "1.Name\n",
            "2.Roll No\n",
            "3. City\n",
            ".4Exit\n",
            "What do you want to change : 1\n",
            "Enter New Name : Jitesh\n",
            "Data Updates Successfully !!\n",
            "1.ADD DATA\n",
            "2.DISPALY DATA\n",
            "3.DELETE DATA\n",
            "4.UPDATE DATA\n",
            "5.EXIT\n",
            "Enter Your Choice : 2\n",
            "------------------------------------------------------------------------------------------------------------\n",
            "|       Student ID          |           Student Name        |         Student Roll No    |      City       |\n",
            "------------------------------------------------------------------------------------------------------------\n",
            "1234 \t Jitesh \t 94 \t Thane\n",
            "------------------------------------------------------------------------------------------------------------\n",
            "1.ADD DATA\n",
            "2.DISPALY DATA\n",
            "3.DELETE DATA\n",
            "4.UPDATE DATA\n",
            "5.EXIT\n",
            "Enter Your Choice : 3\n",
            "Enter The ID of Student to be deleteed : 1234\n",
            "Record Deleted Successfully !!\n",
            "1.ADD DATA\n",
            "2.DISPALY DATA\n",
            "3.DELETE DATA\n",
            "4.UPDATE DATA\n",
            "5.EXIT\n",
            "Enter Your Choice : 2\n",
            "------------------------------------------------------------------------------------------------------------\n",
            "|       Student ID          |           Student Name        |         Student Roll No    |      City       |\n",
            "------------------------------------------------------------------------------------------------------------\n",
            "1.ADD DATA\n",
            "2.DISPALY DATA\n",
            "3.DELETE DATA\n",
            "4.UPDATE DATA\n",
            "5.EXIT\n",
            "Enter Your Choice : 5\n"
          ]
        }
      ]
    },
    {
      "cell_type": "markdown",
      "source": [
        "DAY **3**"
      ],
      "metadata": {
        "id": "vVMs34eFW780"
      }
    },
    {
      "cell_type": "code",
      "source": [
        "# declaring instance outside the class\n",
        "class Student:\n",
        "  def __init__(self):\n",
        "    self.sname='umesh'\n",
        "    self.rno=194\n",
        "  def getdata(self):\n",
        "    self.mob='978456123'\n",
        "\n",
        "obj = Student()\n",
        "obj.getdata()\n",
        "obj.sbranch='AIML'\n",
        "print(obj.__dict__)\n",
        "print(obj.mob)"
      ],
      "metadata": {
        "id": "qxZpTQFiN5U7",
        "colab": {
          "base_uri": "https://localhost:8080/"
        },
        "outputId": "ced6c067-ceb1-4a3c-d5a4-86916ec93bc6"
      },
      "execution_count": null,
      "outputs": [
        {
          "output_type": "stream",
          "name": "stdout",
          "text": [
            "{'sname': 'umesh', 'rno': 194, 'mob': '978456123', 'sbranch': 'AIML'}\n",
            "978456123\n"
          ]
        }
      ]
    },
    {
      "cell_type": "code",
      "source": [
        "# static variabble - declared inside the class but outside the method\n",
        "# inside a constructor by using class name\n",
        "# in a instance method by using class name\n",
        "# in a class method using class name or class variable\n",
        "# static method by using class name\n",
        "\n",
        "# how to access ?\n",
        "# inside instance method / constructor using self/class name\n",
        "# in a class method using class name / class variable\n",
        "# in a static method using class name\n",
        "# outside of the class using class name / object\n",
        "\n",
        "# how to delete static varibale\n",
        "# del classname.staticvar\n",
        "\n",
        "\n",
        "class ABC:\n",
        "  clg='APSIT'\n",
        "  def __init__(self,sname):\n",
        "    self.sname=sname\n",
        "  def show(self):\n",
        "    print(\"\\nName : \",self.sname)\n",
        "    print(\"College : \",ABC.clg)\n",
        "obj1=ABC('Umesh')\n",
        "obj2=ABC('Jeet')\n",
        "obj1.show()\n",
        "obj2.show()\n",
        "ABC.clg='AP Shah'\n",
        "print('\\nCollege New Name ',ABC.clg)\n",
        "obj1.show()\n",
        "obj2.show()"
      ],
      "metadata": {
        "colab": {
          "base_uri": "https://localhost:8080/"
        },
        "id": "xY74E3gcUwqX",
        "outputId": "26780d55-d9c8-4349-f17a-f734c9158df6"
      },
      "execution_count": null,
      "outputs": [
        {
          "output_type": "stream",
          "name": "stdout",
          "text": [
            "\n",
            "Name :  Umesh\n",
            "College :  APSIT\n",
            "\n",
            "Name :  Jeet\n",
            "College :  APSIT\n",
            "\n",
            "College New Name  AP Shah\n",
            "\n",
            "Name :  Umesh\n",
            "College :  AP Shah\n",
            "\n",
            "Name :  Jeet\n",
            "College :  AP Shah\n"
          ]
        }
      ]
    },
    {
      "cell_type": "code",
      "source": [
        "# static varible example\n",
        "class College:\n",
        "  clgname = 'APSHAH'\n",
        "  def __init__(self):\n",
        "    self.sname = 'Umesh'\n",
        "\n",
        "principle = College()\n",
        "teacher = College()\n",
        "accountant = College()\n",
        "\n",
        "print(\"principle  = \",principle.clgname,'.....',principle.sname)\n",
        "print(\"teacher  = \",teacher.clgname,'.....',teacher.sname)\n",
        "print(\"principle  = \",accountant.clgname,'.....',accountant.sname)\n",
        "\n",
        "College.clgname = 'APSIT'\n",
        "principle.sname=\"Phulare Umesh\"\n",
        "\n",
        "print(\"principle  = \",principle.clgname,'.....',principle.sname)\n",
        "print(\"teacher  = \",teacher.clgname,'.....',teacher.sname)\n",
        "print(\"principle  = \",accountant.clgname,'.....',accountant.sname)\n"
      ],
      "metadata": {
        "colab": {
          "base_uri": "https://localhost:8080/"
        },
        "id": "-AKE6c1zW3RK",
        "outputId": "ba804278-d74a-4833-c4bc-5780c07b1d69"
      },
      "execution_count": null,
      "outputs": [
        {
          "output_type": "stream",
          "name": "stdout",
          "text": [
            "principle  =  APSHAH ..... Umesh\n",
            "teacher  =  APSHAH ..... Umesh\n",
            "principle  =  APSHAH ..... Umesh\n",
            "principle  =  APSIT ..... Phulare Umesh\n",
            "teacher  =  APSIT ..... Umesh\n",
            "principle  =  APSIT ..... Umesh\n"
          ]
        }
      ]
    },
    {
      "cell_type": "code",
      "source": [
        "# static method\n",
        "class ABC:\n",
        "  @staticmethod             #decorator for static method\n",
        "  def personal(fname,lname):\n",
        "    print('Name : ',fname,'',lname)\n",
        "\n",
        "  @staticmethod\n",
        "  def contact(mob):\n",
        "    print(\"Contact No : \",mob)\n",
        "\n",
        "ABC.personal(\"Umesh\",\"Phulare\")\n",
        "ABC.contact(1234567890)"
      ],
      "metadata": {
        "colab": {
          "base_uri": "https://localhost:8080/"
        },
        "id": "2I2Bi5ydZbTq",
        "outputId": "397ca5fe-4dd6-431a-8a82-d6fc0a1cc256"
      },
      "execution_count": null,
      "outputs": [
        {
          "output_type": "stream",
          "name": "stdout",
          "text": [
            "Name :  Umesh  Phulare\n",
            "Contact No :  1234567890\n"
          ]
        }
      ]
    },
    {
      "cell_type": "markdown",
      "source": [
        "**Explain Class Method**"
      ],
      "metadata": {
        "id": "_JVnMoAreeD7"
      }
    },
    {
      "cell_type": "code",
      "source": [
        "# single level inheritance\n",
        "class College:\n",
        "  def clg_name(self):\n",
        "    print(\"College : APSIT\")\n",
        "\n",
        "class Student(College):\n",
        "  def stud_info(self):\n",
        "    print(\"Name : Umesh P.\")\n",
        "    print(\"Branch : AIML\")\n",
        "\n",
        "obj=Student()\n",
        "obj.clg_name()\n",
        "obj.stud_info()"
      ],
      "metadata": {
        "colab": {
          "base_uri": "https://localhost:8080/"
        },
        "id": "6eRDi_8YejeW",
        "outputId": "b0f00eed-24d3-4701-c683-f43463079b71"
      },
      "execution_count": null,
      "outputs": [
        {
          "output_type": "stream",
          "name": "stdout",
          "text": [
            "College : APSIT\n",
            "Name : Umesh P.\n",
            "Branch : AIML\n"
          ]
        }
      ]
    },
    {
      "cell_type": "code",
      "source": [
        "# multi level inheritance\n",
        "class College:\n",
        "  def clg_name(self):\n",
        "    print(\"College : APSIT\")\n",
        "\n",
        "class Student(College):\n",
        "  def stud_info(self):\n",
        "    print(\"Name : Umesh P.\")\n",
        "    print(\"Branch : AIML\")\n",
        "\n",
        "class Exam(Student):\n",
        "  def subject(self):\n",
        "    print(\"Subject : Pyhton\")\n",
        "\n",
        "obj=Exam()\n",
        "obj.clg_name()\n",
        "obj.stud_info()\n",
        "obj.subject()"
      ],
      "metadata": {
        "colab": {
          "base_uri": "https://localhost:8080/"
        },
        "id": "ze-Dv5DKiG5H",
        "outputId": "ee0a584e-213e-4e8b-c5b3-ea8d4be47582"
      },
      "execution_count": null,
      "outputs": [
        {
          "output_type": "stream",
          "name": "stdout",
          "text": [
            "College : APSIT\n",
            "Name : Umesh P.\n",
            "Branch : AIML\n",
            "Subject : Pyhton\n"
          ]
        }
      ]
    },
    {
      "cell_type": "code",
      "source": [
        "# multiple inheritance\n",
        "class SubMarks:\n",
        "  python=int(input(\"Enter Python MArks : \"))\n",
        "class PracMarks :\n",
        "  pyprac=int(input(\"Enter Python Prac Marks : \"))\n",
        "\n",
        "class Result(SubMarks,PracMarks):\n",
        "  def total(self):\n",
        "    if self.python >= 40 and self.pyprac >=20:\n",
        "      print(\"PASS\")\n",
        "    else:\n",
        "      print(\"FAIL\")\n",
        "\n",
        "obj = Result()\n",
        "obj.total()"
      ],
      "metadata": {
        "colab": {
          "base_uri": "https://localhost:8080/"
        },
        "id": "KKbuumAci_eV",
        "outputId": "86bbff37-cb51-4aee-9b4a-05d89c2b7bd6"
      },
      "execution_count": null,
      "outputs": [
        {
          "output_type": "stream",
          "name": "stdout",
          "text": [
            "Enter Python MArks : 23\n",
            "Enter Python Prac Marks : 12\n",
            "FAIL\n"
          ]
        }
      ]
    },
    {
      "cell_type": "code",
      "source": [
        "# multiple inheritacne (Method Overriding)\n",
        "class CLASS1:\n",
        "  def add(self,a,b):          #2nd priority\n",
        "    print(\"CLass 1 : \",a+b)\n",
        "class CLASS2:\n",
        "  def add(self,a,b):          #3rd priority\n",
        "    print(\"CLass 2 : \",a+b)\n",
        "\n",
        "class MAIN(CLASS1,CLASS2):\n",
        "  def __init__(self):\n",
        "    print(\"OBJ CREATED\")\n",
        "  def add(self,a,b):            #1st priority\n",
        "    print(\"CLass Main : \",a+b)\n",
        "\n",
        "ob=MAIN()\n",
        "ob.add(1,2)"
      ],
      "metadata": {
        "colab": {
          "base_uri": "https://localhost:8080/"
        },
        "id": "WwGYRkzjlkJj",
        "outputId": "27878fdf-dab5-4898-d212-9e388a54fa9e"
      },
      "execution_count": null,
      "outputs": [
        {
          "output_type": "stream",
          "name": "stdout",
          "text": [
            "OBJ CREATED\n",
            "CLass Main :  3\n"
          ]
        }
      ]
    },
    {
      "cell_type": "code",
      "source": [
        "from abc import ABC, abstractmethod\n",
        "class Help4code(ABC):\n",
        "  @abstractmethod\n",
        "  def training(self):\n",
        "    pass\n",
        "  def placement(self):\n",
        "    pass\n",
        "\n",
        "class Ashish(Help4code):\n",
        "  def training(self):\n",
        "    print('C,c++,Pyhton')\n",
        "  def placement(self):\n",
        "    print('Java Placement')\n",
        "\n",
        "class Ankush(Help4code):\n",
        "  def training(self):\n",
        "    print('Java,JS,Android')\n",
        "  def placement(self):\n",
        "    print('Android Placement')\n",
        "\n",
        "ob1 = Ashish()\n",
        "ob1.training()\n",
        "ob1.placement()\n",
        "\n",
        "ob2 = Ankush()\n",
        "ob2.training()\n",
        "ob2.placement()"
      ],
      "metadata": {
        "colab": {
          "base_uri": "https://localhost:8080/"
        },
        "id": "O3imdrMTmdgo",
        "outputId": "cb746675-9312-4290-cabd-14edb2af6f1f"
      },
      "execution_count": null,
      "outputs": [
        {
          "output_type": "stream",
          "name": "stdout",
          "text": [
            "C,c++,Pyhton\n",
            "Java Placement\n",
            "Java,JS,Android\n",
            "Android Placement\n"
          ]
        }
      ]
    },
    {
      "cell_type": "code",
      "source": [
        "# Banking System Code"
      ],
      "metadata": {
        "id": "-bbxc3NGQ0jQ"
      },
      "execution_count": null,
      "outputs": []
    },
    {
      "cell_type": "code",
      "source": [
        "from abc import ABC, abstractmethod\n",
        "from datetime import datetime\n",
        "\n",
        "# Base Classes\n",
        "class Person:\n",
        "    def __init__(self, name: str, address: str, phone: str):\n",
        "        self.name = name\n",
        "        self.address = address\n",
        "        self.phone = phone\n",
        "\n",
        "    def get_detail(self):\n",
        "        return f\"Name: {self.name}, Address: {self.address}, Phone: {self.phone}\"\n",
        "\n",
        "# Implemented Customer Menu\n",
        "def customer_menu(bank):\n",
        "    while True:\n",
        "        print(\"\\nCustomer Menu\")\n",
        "        print(\"1. Register\")\n",
        "        print(\"2. Deposit\")\n",
        "        print(\"3. Withdraw\")\n",
        "        print(\"4. Balance Inquiry\")\n",
        "        print(\"5. Transaction History\")\n",
        "        print(\"6. Back to Main Menu\")\n",
        "        choice = input(\"Enter choice: \")\n",
        "\n",
        "        if choice == \"1\":\n",
        "            name = input(\"Enter Name: \")\n",
        "            address = input(\"Enter Address: \")\n",
        "            phone = input(\"Enter Phone: \")\n",
        "            customer = bank.create_customer_account(name, address, phone)\n",
        "            print(\"Customer Registered Successfully!\")\n",
        "        elif choice == \"2\":\n",
        "            acc_no = int(input(\"Enter Account Number: \"))\n",
        "            amount = float(input(\"Enter Amount: \"))\n",
        "            for cust in bank.customers:\n",
        "                for acc in cust.accounts:\n",
        "                    if acc.accno == acc_no:\n",
        "                        acc.deposit(amount)\n",
        "                        break\n",
        "        elif choice == \"3\":\n",
        "            acc_no = int(input(\"Enter Account Number: \"))\n",
        "            amount = float(input(\"Enter Amount: \"))\n",
        "            for cust in bank.customers:\n",
        "                for acc in cust.accounts:\n",
        "                    if acc.accno == acc_no:\n",
        "                        acc.withdraw(amount)\n",
        "                        break\n",
        "        elif choice == \"4\":\n",
        "            acc_no = int(input(\"Enter Account Number: \"))\n",
        "            for cust in bank.customers:\n",
        "                for acc in cust.accounts:\n",
        "                    if acc.accno == acc_no:\n",
        "                        print(f\"Balance: {acc.get_balance()}\")\n",
        "                        break\n",
        "        elif choice == \"5\":\n",
        "            acc_no = int(input(\"Enter Account Number: \"))\n",
        "            history = bank.view_transaction_history(acc_no)\n",
        "            print(history)\n",
        "        elif choice == \"6\":\n",
        "            break\n",
        "        else:\n",
        "            print(\"Invalid choice. Try again.\")\n",
        "\n",
        "# Implemented Admin Menu\n",
        "def admin_menu(bank):\n",
        "    while True:\n",
        "        print(\"\\nAdmin Menu\")\n",
        "        print(\"1. Register Admin\")\n",
        "        print(\"2. View All Customers\")\n",
        "        print(\"3. Approve Account\")\n",
        "        print(\"4. Back to Main Menu\")\n",
        "        choice = input(\"Enter choice: \")\n",
        "\n",
        "        if choice == \"1\":\n",
        "            name = input(\"Enter Name: \")\n",
        "            address = input(\"Enter Address: \")\n",
        "            phone = input(\"Enter Phone: \")\n",
        "            empid = int(input(\"Enter Employee ID: \"))\n",
        "            admin = Admin(name, address, phone, empid)\n",
        "            bank.admins.append(admin)\n",
        "            print(\"Admin Registered Successfully!\")\n",
        "        elif choice == \"2\":\n",
        "            for customer in bank.customers:\n",
        "                print(customer.get_detail())\n",
        "        elif choice == \"3\":\n",
        "            cust_name = input(\"Enter Customer Name: \")\n",
        "            acc_no = int(input(\"Enter Account Number: \"))\n",
        "            acc_type = input(\"Enter Account Type (Savings/Business): \")\n",
        "            for customer in bank.customers:\n",
        "                if customer.name == cust_name:\n",
        "                    if acc_type.lower() == \"savings\":\n",
        "                        account = SavingsAccount(acc_no, customer)\n",
        "                    else:\n",
        "                        account = BusinessAccount(acc_no, customer)\n",
        "                    admin = bank.admins[0] if bank.admins else None\n",
        "                    if admin:\n",
        "                        admin.approve_account(customer, account)\n",
        "                        print(\"Account Approved!\")\n",
        "                    break\n",
        "        elif choice == \"4\":\n",
        "            break\n",
        "        else:\n",
        "            print(\"Invalid choice. Try again.\")\n",
        "\n",
        "if __name__ == \"__main__\":\n",
        "    main_menu()\n"
      ],
      "metadata": {
        "colab": {
          "base_uri": "https://localhost:8080/"
        },
        "id": "zdqu-nD9Q4Oi",
        "outputId": "f6b31ac6-a52e-4534-b490-301cae396b13"
      },
      "execution_count": null,
      "outputs": [
        {
          "name": "stdout",
          "output_type": "stream",
          "text": [
            "\n",
            "1. Customer Login/Register\n",
            "2. Admin Login/Register\n",
            "3. Exit\n",
            "Enter choice: 1\n",
            "\n",
            "Customer Menu\n",
            "1. Register\n",
            "2. Deposit\n",
            "3. Withdraw\n",
            "4. Balance Inquiry\n",
            "5. Transaction History\n",
            "6. Back to Main Menu\n",
            "Enter choice: 1\n",
            "Enter Name: Umesh\n",
            "Enter Address: 702, Sai Vatsaly Apt\n",
            "Enter Phone: 1234567890\n",
            "Customer Registered Successfully!\n",
            "\n",
            "Customer Menu\n",
            "1. Register\n",
            "2. Deposit\n",
            "3. Withdraw\n",
            "4. Balance Inquiry\n",
            "5. Transaction History\n",
            "6. Back to Main Menu\n",
            "Enter choice: 4\n",
            "Enter Account Number: 1234\n",
            "\n",
            "Customer Menu\n",
            "1. Register\n",
            "2. Deposit\n",
            "3. Withdraw\n",
            "4. Balance Inquiry\n",
            "5. Transaction History\n",
            "6. Back to Main Menu\n",
            "Enter choice: 2\n",
            "Enter Account Number: 1234\n",
            "Enter Amount: 9999\n",
            "\n",
            "Customer Menu\n",
            "1. Register\n",
            "2. Deposit\n",
            "3. Withdraw\n",
            "4. Balance Inquiry\n",
            "5. Transaction History\n",
            "6. Back to Main Menu\n",
            "Enter choice: 4\n",
            "Enter Account Number: 1234\n",
            "\n",
            "Customer Menu\n",
            "1. Register\n",
            "2. Deposit\n",
            "3. Withdraw\n",
            "4. Balance Inquiry\n",
            "5. Transaction History\n",
            "6. Back to Main Menu\n",
            "Enter choice: 6\n",
            "\n",
            "1. Customer Login/Register\n",
            "2. Admin Login/Register\n",
            "3. Exit\n",
            "Enter choice: 2\n",
            "\n",
            "Admin Menu\n",
            "1. Register Admin\n",
            "2. View All Customers\n",
            "3. Approve Account\n",
            "4. Back to Main Menu\n",
            "Enter choice: 2\n",
            "Name: Umesh, Address: 702, Sai Vatsaly Apt, Phone: 1234567890\n",
            "\n",
            "Admin Menu\n",
            "1. Register Admin\n",
            "2. View All Customers\n",
            "3. Approve Account\n",
            "4. Back to Main Menu\n",
            "Enter choice: 3\n",
            "Enter Customer Name: 1\n",
            "Enter Account Number: 12121\n",
            "Enter Account Type (Savings/Business): Savings\n",
            "\n",
            "Admin Menu\n",
            "1. Register Admin\n",
            "2. View All Customers\n",
            "3. Approve Account\n",
            "4. Back to Main Menu\n",
            "Enter choice: 3\n",
            "Enter Customer Name: 4\n",
            "Enter Account Number: 4\n",
            "Enter Account Type (Savings/Business): 4\n",
            "\n",
            "Admin Menu\n",
            "1. Register Admin\n",
            "2. View All Customers\n",
            "3. Approve Account\n",
            "4. Back to Main Menu\n",
            "Enter choice: 4\n",
            "\n",
            "1. Customer Login/Register\n",
            "2. Admin Login/Register\n",
            "3. Exit\n",
            "Enter choice: 3\n"
          ]
        }
      ]
    },
    {
      "cell_type": "code",
      "source": [
        "# methpd overloading (argument)\n",
        "class Arithmetic:\n",
        "  def add(self,a):\n",
        "    print(a+a)\n",
        "  def add(Self,a,b):\n",
        "    print(a+b)\n",
        "  def add(self,a,b,c):\n",
        "    print(a+b+c)\n",
        "\n",
        "obj = Arithmetic()\n",
        "# obj.add(10)        #error\n",
        "# obj.add(10,20)     #error\n",
        "obj.add(10,20,30)"
      ],
      "metadata": {
        "colab": {
          "base_uri": "https://localhost:8080/"
        },
        "id": "PY6kJKN1gLHG",
        "outputId": "ea318fa3-b0eb-49c6-b0e0-9dfa9fc7503a"
      },
      "execution_count": null,
      "outputs": [
        {
          "output_type": "stream",
          "name": "stdout",
          "text": [
            "60\n"
          ]
        }
      ]
    },
    {
      "cell_type": "code",
      "source": [
        "# methpd overloading (argument)\n",
        "class Arithmetic:\n",
        "  def add(self,a=None,b=None,c=None):\n",
        "    if a!=None and b!=None and c==None:\n",
        "      print(a+b)\n",
        "    elif a!=None and b!=None and c!=None:\n",
        "      print(a+b+c)\n",
        "\n",
        "obj = Arithmetic()\n",
        "# obj.add(10)        #error\n",
        "obj.add(10,20)     #error\n",
        "obj.add(10,20,30)"
      ],
      "metadata": {
        "colab": {
          "base_uri": "https://localhost:8080/"
        },
        "id": "6tnEC1HFjJLL",
        "outputId": "35dd557b-a27a-47ed-9db1-0b57ec09fb6f"
      },
      "execution_count": null,
      "outputs": [
        {
          "output_type": "stream",
          "name": "stdout",
          "text": [
            "30\n",
            "60\n"
          ]
        }
      ]
    },
    {
      "cell_type": "code",
      "source": [
        "# method overloading (constructor)\n",
        "class Arithmetic:\n",
        "  def __init__(self):\n",
        "    print(\"no args\")\n",
        "  def __init__(self,a):\n",
        "    print('One args')\n",
        "  def __init__(self,a,b):\n",
        "    print('2 Args')\n",
        "\n",
        "obj1=Arithmetic()\n",
        "obj1=Arithmetic(10)\n",
        "obj1=Arithmetic(1,2)"
      ],
      "metadata": {
        "colab": {
          "base_uri": "https://localhost:8080/",
          "height": 211
        },
        "id": "YknM3k3Djnc_",
        "outputId": "7b288fb3-d95c-4f28-bd33-211b05828407"
      },
      "execution_count": null,
      "outputs": [
        {
          "output_type": "error",
          "ename": "TypeError",
          "evalue": "Arithmetic.__init__() missing 2 required positional arguments: 'a' and 'b'",
          "traceback": [
            "\u001b[0;31m---------------------------------------------------------------------------\u001b[0m",
            "\u001b[0;31mTypeError\u001b[0m                                 Traceback (most recent call last)",
            "\u001b[0;32m<ipython-input-15-7d922cf35f71>\u001b[0m in \u001b[0;36m<cell line: 0>\u001b[0;34m()\u001b[0m\n\u001b[1;32m      8\u001b[0m     \u001b[0mprint\u001b[0m\u001b[0;34m(\u001b[0m\u001b[0;34m'2 Args'\u001b[0m\u001b[0;34m)\u001b[0m\u001b[0;34m\u001b[0m\u001b[0;34m\u001b[0m\u001b[0m\n\u001b[1;32m      9\u001b[0m \u001b[0;34m\u001b[0m\u001b[0m\n\u001b[0;32m---> 10\u001b[0;31m \u001b[0mobj1\u001b[0m\u001b[0;34m=\u001b[0m\u001b[0mArithmetic\u001b[0m\u001b[0;34m(\u001b[0m\u001b[0;34m)\u001b[0m\u001b[0;34m\u001b[0m\u001b[0;34m\u001b[0m\u001b[0m\n\u001b[0m\u001b[1;32m     11\u001b[0m \u001b[0mobj1\u001b[0m\u001b[0;34m=\u001b[0m\u001b[0mArithmetic\u001b[0m\u001b[0;34m(\u001b[0m\u001b[0;36m10\u001b[0m\u001b[0;34m)\u001b[0m\u001b[0;34m\u001b[0m\u001b[0;34m\u001b[0m\u001b[0m\n\u001b[1;32m     12\u001b[0m \u001b[0mobj1\u001b[0m\u001b[0;34m=\u001b[0m\u001b[0mArithmetic\u001b[0m\u001b[0;34m(\u001b[0m\u001b[0;36m1\u001b[0m\u001b[0;34m,\u001b[0m\u001b[0;36m2\u001b[0m\u001b[0;34m)\u001b[0m\u001b[0;34m\u001b[0m\u001b[0;34m\u001b[0m\u001b[0m\n",
            "\u001b[0;31mTypeError\u001b[0m: Arithmetic.__init__() missing 2 required positional arguments: 'a' and 'b'"
          ]
        }
      ]
    },
    {
      "cell_type": "code",
      "source": [
        "# Method Overriding\n",
        "class RBI:\n",
        "  def homeLoan(self):\n",
        "    print('Home loan ROI in RBI: 7.5%')\n",
        "  def carLoan(self):\n",
        "    print('Car loan ROI : 8%')\n",
        "\n",
        "class SBI(RBI):\n",
        "  def homeLoan(self):\n",
        "    super().homeLoan()\n",
        "    print('Home loan ROI in SBI : 6.5%')\n",
        "obj=SBI()\n",
        "obj.homeLoan()\n",
        "obj.carLoan()"
      ],
      "metadata": {
        "colab": {
          "base_uri": "https://localhost:8080/"
        },
        "id": "VNcOAndUmYs4",
        "outputId": "1d9050e9-965d-4855-c799-d9c26367de93"
      },
      "execution_count": null,
      "outputs": [
        {
          "output_type": "stream",
          "name": "stdout",
          "text": [
            "Home loan ROI in RBI: 7.5%\n",
            "Home loan ROI in SBI : 6.5%\n",
            "Car loan ROI : 8%\n"
          ]
        }
      ]
    },
    {
      "cell_type": "code",
      "source": [
        "# constructor overriding\n",
        "class Father:\n",
        "  def __init__(self,a):\n",
        "    print(\"Father Class : \",a)\n",
        "\n",
        "class Son(Father):\n",
        "  def __init__(self,a,b):\n",
        "    super().__init__(a)\n",
        "    print(\"Son Class : \",b)\n",
        "obj=Son(10,11)"
      ],
      "metadata": {
        "colab": {
          "base_uri": "https://localhost:8080/"
        },
        "id": "K4oY6VO8oElB",
        "outputId": "7b53024c-ea6c-49c0-de9e-e4beea200e09"
      },
      "execution_count": null,
      "outputs": [
        {
          "output_type": "stream",
          "name": "stdout",
          "text": [
            "Father Class :  10\n",
            "Son Class :  11\n"
          ]
        }
      ]
    },
    {
      "cell_type": "code",
      "source": [
        "# string functions\n",
        "print('umesh123'.isalnum())\n",
        "print('umesh'.isalpha())\n",
        "print('777f'.isdigit())\n",
        "print('sdsdsd'.islower())\n",
        "print(''.islower())\n",
        "print('UERU'.isupper())\n",
        "print(''.isupper())\n",
        "print('Hi Hello'.istitle())\n",
        "print(''.istitle())\n",
        "print('my name is umesh'.isspace())"
      ],
      "metadata": {
        "colab": {
          "base_uri": "https://localhost:8080/"
        },
        "id": "JO1Z0z8tsXZf",
        "outputId": "1f5b3718-dc10-4de0-9616-89f08bd0c837"
      },
      "execution_count": null,
      "outputs": [
        {
          "output_type": "stream",
          "name": "stdout",
          "text": [
            "True\n",
            "True\n",
            "False\n",
            "True\n",
            "False\n",
            "True\n",
            "False\n",
            "True\n",
            "False\n",
            "False\n"
          ]
        }
      ]
    },
    {
      "cell_type": "code",
      "source": [
        "class Test:\n",
        "    questions=[]\n",
        "    option1=[]\n",
        "    option2=[]\n",
        "    option3=[]\n",
        "    option4=[]\n",
        "    answer=[]\n",
        "\n",
        "    def test(self):\n",
        "        self.r=0\n",
        "        self.w=0\n",
        "        for i in range(len(Test.questions)):\n",
        "            print('\\n==================================================================================\\n')\n",
        "            print(f\"Question {i+1}. {Test.questions[i]}\\n\")\n",
        "            print(f'Option 1. {Test.option1[i]}')\n",
        "            print(f'Option 2. {Test.option2[i]}')\n",
        "            print(f'Option 3. {Test.option3[i]}')\n",
        "            print(f'Option 4. {Test.option4[i]}')\n",
        "            self.ans=int(input(\"Enter Your Correct Option Number (Only 1) : \"))\n",
        "            if self.ans==Test.answer[i]:\n",
        "                self.r+=1\n",
        "            else:\n",
        "                self.w+=1\n",
        "        return self.r,self.w\n",
        "\n",
        "class Student(Test):\n",
        "    students=[]\n",
        "    testGiven=False\n",
        "    def __init__(self):\n",
        "        self.name=''\n",
        "        self.rno=0\n",
        "        self.clg=''\n",
        "        self.dept=''\n",
        "        self.right=0\n",
        "        self.wrong=0\n",
        "\n",
        "    def set_info(self,name,rno,clg,dept):\n",
        "        self.name=name\n",
        "        self.rno=rno\n",
        "        self.clg=clg\n",
        "        self.dept=dept\n",
        "        self.right=0\n",
        "        self.wrong=0\n",
        "\n",
        "    def give_exam(self):\n",
        "        self.right,self.wrong = self.test()\n",
        "        Student.testGiven=True\n",
        "        print(\"Exam Done !!\")\n",
        "\n",
        "    def result(self):\n",
        "        if not Student.test:\n",
        "            print(\"1st give the Test !!!\")\n",
        "            return\n",
        "        print(\"Name : \",self.name)\n",
        "        print(\"Roll no  : \",self.rno)\n",
        "        print(\"College Name : \",self.clg)\n",
        "        print(\"Department Name : \",self.dept)\n",
        "        print(\"Correct Answers : \",self.right)\n",
        "        print(\"Incorrect Answers : \",self.wrong)\n",
        "        self.score=(100*self.right)/len(Test.questions)\n",
        "        print(\"Score : \",self.score,'%')\n",
        "\n",
        "class Admin(Test):\n",
        "    adminslist=['AD101','AD102','AD201']\n",
        "    def add_question(self):\n",
        "        ch=0\n",
        "        while ch!=2:\n",
        "            print('\\n1.Add Question\\n2.Exit')\n",
        "            ch=int(input(\"Enter Your Choice : \"))\n",
        "            if ch==1:\n",
        "                question=input(\"Enter Your Question : \")\n",
        "                opt1=input(\"Enter Option 1 : \")\n",
        "                opt2=input(\"Enter Option 2 : \")\n",
        "                opt3=input(\"Enter Option 3 : \")\n",
        "                opt4=input(\"Enter Option 4 : \")\n",
        "                correct_opt=int(input(\"Enter Correct Option No : \"))\n",
        "                print(\"\\nQuestion Added Successfully !!\\n\")\n",
        "                Test.questions.append(question)\n",
        "                Test.option1.append(opt1)\n",
        "                Test.option2.append(opt2)\n",
        "                Test.option3.append(opt3)\n",
        "                Test.option4.append(opt4)\n",
        "                Test.answer.append(correct_opt)\n",
        "            elif ch==2: return\n",
        "            else:\n",
        "                print(\"Enter Appropriate Input\")\n",
        "\n",
        "if __name__ == \"__main__\":\n",
        "\n",
        "    print(\"Welcome !!\")\n",
        "    choice =0\n",
        "    stud=Student()\n",
        "    while choice !=5:\n",
        "        print('\\n1. Add Student Info\\n2.Admin Add Question\\n3.Give The Exam\\n4.Display result\\n5. Exit')\n",
        "        choice=int(input('Enter Your  choice : '))\n",
        "        if choice==1:\n",
        "            name=input(\"Enter Name : \")\n",
        "            rno=int(input(\"Enter Roll No : \"))\n",
        "            clg=input(\"Enter College Name : \")\n",
        "            dept=input(\"Enter Department : \")\n",
        "            stud.set_info(name,rno,clg,dept)\n",
        "            Student.students.append(stud)\n",
        "            print(\"Student Profile Created !!\")\n",
        "        elif choice==2:\n",
        "            admin=Admin()\n",
        "            id=input('Enter your admin ID : ')\n",
        "            if id not in Admin.adminslist:\n",
        "                print(\"Invalid ADmin ID !!\")\n",
        "                continue\n",
        "            else:\n",
        "                admin.add_question()\n",
        "\n",
        "        elif choice==3:\n",
        "            n=input('Enter Your Name : ')\n",
        "            # print(n)\n",
        "            if n != stud.name:\n",
        "                print(\"Invalid Name or Student Not Registered !!\")\n",
        "                # print('New Name : ',n)\n",
        "                # print(stud.name)\n",
        "            else:\n",
        "                stud.give_exam()\n",
        "\n",
        "        elif choice==4:\n",
        "            stud.result()\n",
        "\n",
        "        elif choice==5:\n",
        "            break\n",
        "        else:\n",
        "            print(\"Enter Appropriate Option !!!\")\n"
      ],
      "metadata": {
        "colab": {
          "base_uri": "https://localhost:8080/"
        },
        "id": "7RNvnjWSudOg",
        "outputId": "e1194a7f-d007-42ec-dea6-d096a4d4a413"
      },
      "execution_count": null,
      "outputs": [
        {
          "name": "stdout",
          "output_type": "stream",
          "text": [
            "Welcome !!\n",
            "\n",
            "1. Add Student Info\n",
            "2.Admin Add Question\n",
            "3.Give The Exam\n",
            "4.Display result\n",
            "5. Exit\n",
            "Enter Your  choice : 1\n",
            "Enter Name : Umesh\n",
            "Enter Roll No : 94\n",
            "Enter College Name : Apsit\n",
            "Enter Department : AIML\n",
            "Student Profile Created !!\n",
            "\n",
            "1. Add Student Info\n",
            "2.Admin Add Question\n",
            "3.Give The Exam\n",
            "4.Display result\n",
            "5. Exit\n",
            "Enter Your  choice : 2\n",
            "Enter your admin ID : AD101\n",
            "\n",
            "1.Add Question\n",
            "2.Exit\n",
            "Enter Your Choice : 1\n",
            "Enter Your Question : What is Python ?\n",
            "Enter Option 1 : Animal\n",
            "Enter Option 2 : Language\n",
            "Enter Option 3 : Game\n",
            "Enter Option 4 : None\n",
            "Enter Correct Option No : 2\n",
            "\n",
            "Question Added Successfully !!\n",
            "\n",
            "\n",
            "1.Add Question\n",
            "2.Exit\n",
            "Enter Your Choice : 1\n",
            "Enter Your Question : Who is CEO of Meta ?\n",
            "Enter Option 1 : Elon Musk\n",
            "Enter Option 2 : Mark Zuckerburg\n",
            "Enter Option 3 : Jeff Bezos\n",
            "Enter Option 4 : Steve Jobs\n",
            "Enter Correct Option No : 2\n",
            "\n",
            "Question Added Successfully !!\n",
            "\n",
            "\n",
            "1.Add Question\n",
            "2.Exit\n",
            "Enter Your Choice : 2\n",
            "\n",
            "1. Add Student Info\n",
            "2.Admin Add Question\n",
            "3.Give The Exam\n",
            "4.Display result\n",
            "5. Exit\n",
            "Enter Your  choice : 3\n",
            "Enter Your Name : Umesh\n",
            "\n",
            "==================================================================================\n",
            "\n",
            "Question 1. What is Python ?\n",
            "\n",
            "Option 1. Animal\n",
            "Option 2. Language\n",
            "Option 3. Game\n",
            "Option 4. None\n",
            "Enter Your Correct Option Number (Only 1) : 1\n",
            "\n",
            "==================================================================================\n",
            "\n",
            "Question 2. Who is CEO of Meta ?\n",
            "\n",
            "Option 1. Elon Musk\n",
            "Option 2. Mark Zuckerburg\n",
            "Option 3. Jeff Bezos\n",
            "Option 4. Steve Jobs\n",
            "Enter Your Correct Option Number (Only 1) : 2\n",
            "Exam Done !!\n",
            "\n",
            "1. Add Student Info\n",
            "2.Admin Add Question\n",
            "3.Give The Exam\n",
            "4.Display result\n",
            "5. Exit\n",
            "Enter Your  choice : 4\n",
            "Name :  Umesh\n",
            "Roll no  :  94\n",
            "College Name :  Apsit\n",
            "Department Name :  AIML\n",
            "Correct Answers :  1\n",
            "Incorrect Answers :  1\n",
            "Score :  50.0 %\n",
            "\n",
            "1. Add Student Info\n",
            "2.Admin Add Question\n",
            "3.Give The Exam\n",
            "4.Display result\n",
            "5. Exit\n",
            "Enter Your  choice : 5\n"
          ]
        }
      ]
    },
    {
      "cell_type": "code",
      "source": [
        "# same code but by using csv file\n",
        "import csv\n",
        "\n",
        "class Test:\n",
        "    # questions=[]\n",
        "    # option1=[]\n",
        "    # option2=[]\n",
        "    # option3=[]\n",
        "    # option4=[]\n",
        "    # answer=[]\n",
        "\n",
        "    def test(self):\n",
        "        self.r=0\n",
        "        self.w=0\n",
        "        file=open('questions.csv','r')\n",
        "        ques=csv.reader(file)\n",
        "        data=list(ques)\n",
        "        for line in data:\n",
        "            print(\"Question. \",line[0])\n",
        "            print(\"1) \",line[1])\n",
        "            print(\"2) \",line[2])\n",
        "            print(\"3) \",line[3])\n",
        "            print(\"4) \",line[4])\n",
        "            self.ans=int(input(\"Enter Your Correct Option Number (Only 1) : \"))\n",
        "            if self.ans==int(line[5]):\n",
        "                self.r+=1\n",
        "            else:\n",
        "                self.w+=1\n",
        "        return self.r,self.w\n",
        "        file.close()\n",
        "\n",
        "class Student(Test):\n",
        "    students=[]\n",
        "    testGiven=False\n",
        "    def __init__(self):\n",
        "        self.name=''\n",
        "        self.rno=0\n",
        "        self.clg=''\n",
        "        self.dept=''\n",
        "        self.right=0\n",
        "        self.wrong=0\n",
        "\n",
        "    def set_info(self,name,rno,clg,dept):\n",
        "        self.name=name\n",
        "        self.rno=rno\n",
        "        self.clg=clg\n",
        "        self.dept=dept\n",
        "        self.right=0\n",
        "        self.wrong=0\n",
        "\n",
        "    def give_exam(self):\n",
        "        self.right,self.wrong = self.test()\n",
        "        Student.testGiven=True\n",
        "        print(\"Exam Done !!\")\n",
        "\n",
        "    def result(self):\n",
        "        if not Student.test:\n",
        "            print(\"1st give the Test !!!\")\n",
        "            return\n",
        "        print(\"Name : \",self.name)\n",
        "        print(\"Roll no  : \",self.rno)\n",
        "        print(\"College Name : \",self.clg)\n",
        "        print(\"Department Name : \",self.dept)\n",
        "        print(\"Correct Answers : \",self.right)\n",
        "        print(\"Incorrect Answers : \",self.wrong)\n",
        "        file=open('questions.csv','r')\n",
        "        ques=csv.reader(file)\n",
        "        data=list(ques)\n",
        "        file.close()\n",
        "        self.score=(100*self.right)/len(data)\n",
        "        print(\"Score : \",self.score,'%')\n",
        "\n",
        "class Admin(Test):\n",
        "    adminslist=['AD101','AD102','AD201']\n",
        "    def add_question(self):\n",
        "        ch=0\n",
        "        file=open('questions.csv','a',newline='')\n",
        "        ques=csv.writer(file)\n",
        "        while ch!=2:\n",
        "            print('\\n1.Add Question\\n2.Exit')\n",
        "            ch=int(input(\"Enter Your Choice : \"))\n",
        "            if ch==1:\n",
        "                question=input(\"Enter Your Question : \")\n",
        "                opt1=input(\"Enter Option 1 : \")\n",
        "                opt2=input(\"Enter Option 2 : \")\n",
        "                opt3=input(\"Enter Option 3 : \")\n",
        "                opt4=input(\"Enter Option 4 : \")\n",
        "                correct_opt=int(input(\"Enter Correct Option No : \"))\n",
        "                print(\"\\nQuestion Added Successfully !!\\n\")\n",
        "                # csv file\n",
        "                ques.writerow([question,opt1,opt2,opt3,opt4,correct_opt])\n",
        "                # Test.questions.append(question)\n",
        "                # Test.option1.append(opt1)\n",
        "                # Test.option2.append(opt2)\n",
        "                # Test.option3.append(opt3)\n",
        "                # Test.option4.append(opt4)\n",
        "                # Test.answer.append(correct_opt)\n",
        "            elif ch==2:\n",
        "                file.close()\n",
        "                return\n",
        "            else:\n",
        "                print(\"Enter Appropriate Input\")\n",
        "\n",
        "\n",
        "if __name__ == \"__main__\":\n",
        "\n",
        "    print(\"Welcome !!\")\n",
        "    choice =0\n",
        "    stud=Student()\n",
        "    while choice !=5:\n",
        "        print('\\n1. Add Student Info\\n2.Admin Add Question\\n3.Give The Exam\\n4.Display result\\n5. Exit')\n",
        "        choice=int(input('Enter Your  choice : '))\n",
        "        if choice==1:\n",
        "            name=input(\"Enter Name : \")\n",
        "            rno=int(input(\"Enter Roll No : \"))\n",
        "            clg=input(\"Enter College Name : \")\n",
        "            dept=input(\"Enter Department : \")\n",
        "            stud.set_info(name,rno,clg,dept)\n",
        "            Student.students.append(stud)\n",
        "            print(\"Student Profile Created !!\")\n",
        "        elif choice==2:\n",
        "            admin=Admin()\n",
        "            id=input('Enter your admin ID : ')\n",
        "            if id not in Admin.adminslist:\n",
        "                print(\"Invalid ADmin ID !!\")\n",
        "                continue\n",
        "            else:\n",
        "                admin.add_question()\n",
        "\n",
        "        elif choice==3:\n",
        "            n=input('Enter Your Name : ')\n",
        "            if n != stud.name:\n",
        "                print(\"Invalid Name or Student Not Registered !!\")\n",
        "                stud.give_exam()\n",
        "\n",
        "        elif choice==4:\n",
        "            stud.result()\n",
        "\n",
        "        elif choice==5:\n",
        "            break\n",
        "        else:\n",
        "            print(\"Enter Appropriate Option !!!\")\n"
      ],
      "metadata": {
        "id": "QJc1vVBZdwLI"
      },
      "execution_count": null,
      "outputs": []
    },
    {
      "cell_type": "code",
      "source": [
        "class Base:\n",
        "  def __init__(self):\n",
        "    print('Parent Class constructo.')\n",
        "    self.a = 'umesh'  # public data member\n",
        "    self.__c = 'phulare'    # private data member\n",
        "\n",
        "class Derived(Base):\n",
        "  def __init__(self):\n",
        "    Base.__init__(self)\n",
        "    print('Calling Private Memeber of Base Class : ')\n",
        "    print(self.a)\n",
        "    # print(self.__c)\n",
        "\n",
        "obj1=Derived()\n",
        "print(obj1.a)\n",
        "# print(obj1.__c)\n",
        "obj2=Base()\n",
        "print(obj2.a)\n",
        "# print(obj2.__c)\n"
      ],
      "metadata": {
        "colab": {
          "base_uri": "https://localhost:8080/",
          "height": 280
        },
        "id": "QZQzive3D84N",
        "outputId": "415037e9-7464-402e-9c3c-0f228b089346"
      },
      "execution_count": null,
      "outputs": [
        {
          "output_type": "stream",
          "name": "stdout",
          "text": [
            "Parent Class constructo.\n",
            "Calling Private Memeber of Base Class : \n",
            "umesh\n",
            "umesh\n",
            "Parent Class constructo.\n",
            "umesh\n"
          ]
        },
        {
          "output_type": "error",
          "ename": "AttributeError",
          "evalue": "'Base' object has no attribute '__c'",
          "traceback": [
            "\u001b[0;31m---------------------------------------------------------------------------\u001b[0m",
            "\u001b[0;31mAttributeError\u001b[0m                            Traceback (most recent call last)",
            "\u001b[0;32m<ipython-input-14-217f96abd6f9>\u001b[0m in \u001b[0;36m<cell line: 0>\u001b[0;34m()\u001b[0m\n\u001b[1;32m     17\u001b[0m \u001b[0mobj2\u001b[0m\u001b[0;34m=\u001b[0m\u001b[0mBase\u001b[0m\u001b[0;34m(\u001b[0m\u001b[0;34m)\u001b[0m\u001b[0;34m\u001b[0m\u001b[0;34m\u001b[0m\u001b[0m\n\u001b[1;32m     18\u001b[0m \u001b[0mprint\u001b[0m\u001b[0;34m(\u001b[0m\u001b[0mobj2\u001b[0m\u001b[0;34m.\u001b[0m\u001b[0ma\u001b[0m\u001b[0;34m)\u001b[0m\u001b[0;34m\u001b[0m\u001b[0;34m\u001b[0m\u001b[0m\n\u001b[0;32m---> 19\u001b[0;31m \u001b[0mprint\u001b[0m\u001b[0;34m(\u001b[0m\u001b[0mobj2\u001b[0m\u001b[0;34m.\u001b[0m\u001b[0m__c\u001b[0m\u001b[0;34m)\u001b[0m\u001b[0;34m\u001b[0m\u001b[0;34m\u001b[0m\u001b[0m\n\u001b[0m",
            "\u001b[0;31mAttributeError\u001b[0m: 'Base' object has no attribute '__c'"
          ]
        }
      ]
    },
    {
      "cell_type": "code",
      "source": [
        "class RBI:\n",
        "  # public method\n",
        "  def publicPolicy(self):\n",
        "    print('Public Policy')\n",
        "  # private method\n",
        "  def __privatePolicy(self):\n",
        "    print('Private Policy')\n",
        "\n",
        "class SBI(RBI):\n",
        "  def __init__(self):\n",
        "    RBI.__init__(self)\n",
        "    # public method\n",
        "  def publicMethod(self):\n",
        "    print('public method of child class')\n",
        "    self.publicPolicy()\n",
        "  # private method\n",
        "  def __privatemethod(self):\n",
        "    print('private method of child class')\n",
        "    self.__privatePolicy()\n",
        "\n",
        "obj1=SBI()\n",
        "obj1.publicMethod()\n",
        "# obj1.__privatemethod()\n",
        "obj1.publicPolicy()\n",
        "# obj1.__privatePolicy()\n",
        "\n",
        "obj2=RBI()\n",
        "obj2.publicPolicy()\n",
        "# obj2.__privatePolicy()"
      ],
      "metadata": {
        "colab": {
          "base_uri": "https://localhost:8080/"
        },
        "id": "DtjBY401lg01",
        "outputId": "8b488dc0-4d3a-4cbb-f201-29d99be0bdb8"
      },
      "execution_count": null,
      "outputs": [
        {
          "output_type": "stream",
          "name": "stdout",
          "text": [
            "public method of child class\n",
            "Public Policy\n",
            "Public Policy\n",
            "Public Policy\n"
          ]
        }
      ]
    },
    {
      "cell_type": "markdown",
      "source": [
        "# **Module & Packages**"
      ],
      "metadata": {
        "id": "JnC6c3GFstS7"
      }
    },
    {
      "cell_type": "code",
      "source": [
        "# usng Modules (need to import module1.py from Modules Folder in Colab)\n",
        "import module1 as m                    #using m as alias name\n",
        "m.welcome('Umesh','Phulare')\n",
        "m.square(10)\n",
        "m.login('umesh','umesh')\n",
        "r=int(input('Enter Radius : '))\n",
        "print('Circumference of Circle : ',(2*m.PI*r))"
      ],
      "metadata": {
        "colab": {
          "base_uri": "https://localhost:8080/"
        },
        "id": "r6j-0xgEslCO",
        "outputId": "165cbb4f-10aa-47aa-e86b-59c788e18f51"
      },
      "execution_count": null,
      "outputs": [
        {
          "output_type": "stream",
          "name": "stdout",
          "text": [
            "First Name :  Umesh\n",
            "Last Name :  Phulare\n",
            "Area of Square :  100\n",
            "Login Successful\n",
            "Enter Radius : 5\n",
            "Circumference of Circle :  31.400000000000002\n"
          ]
        }
      ]
    },
    {
      "cell_type": "code",
      "source": [
        "from module1 import login\n",
        "login('Umesh','Umesh')"
      ],
      "metadata": {
        "colab": {
          "base_uri": "https://localhost:8080/"
        },
        "id": "44exgN-ys5OB",
        "outputId": "5b26c41d-cacc-4d3e-9216-563ab1fd3f50"
      },
      "execution_count": null,
      "outputs": [
        {
          "output_type": "stream",
          "name": "stdout",
          "text": [
            "Login Successful\n"
          ]
        }
      ]
    },
    {
      "cell_type": "code",
      "source": [
        "from module1 import *\n",
        "square(10)\n",
        "login(\"umesh\",\"umesh\")"
      ],
      "metadata": {
        "colab": {
          "base_uri": "https://localhost:8080/"
        },
        "id": "hUqWVr4xueYl",
        "outputId": "a9502b77-aa85-4845-c38b-45ecf2ff96b3"
      },
      "execution_count": null,
      "outputs": [
        {
          "output_type": "stream",
          "name": "stdout",
          "text": [
            "Area of Square :  100\n",
            "Login Successful\n"
          ]
        }
      ]
    },
    {
      "cell_type": "code",
      "source": [
        "from random import *\n",
        "for i in range(5):\n",
        "  print(random())\n",
        "print()\n",
        "for i in range(5):\n",
        "  print(randint(1,1000000000))\n",
        "print()\n",
        "for i in range(5):\n",
        "  print(uniform(1,20))\n",
        "print()\n",
        "list=[12,3,23,324,2323,23,231,112]\n",
        "for i in range(5):\n",
        "  print(choice(list))"
      ],
      "metadata": {
        "colab": {
          "base_uri": "https://localhost:8080/"
        },
        "id": "pfsYnJvZwM2G",
        "outputId": "22d8e04a-0697-41ce-a4cc-ca891653907a"
      },
      "execution_count": null,
      "outputs": [
        {
          "output_type": "stream",
          "name": "stdout",
          "text": [
            "0.17183517063540943\n",
            "0.7709013562037823\n",
            "0.3327275170903752\n",
            "0.9587263536790976\n",
            "0.2482573861763272\n",
            "\n",
            "976392948\n",
            "505893084\n",
            "993024317\n",
            "89281570\n",
            "430413612\n",
            "\n",
            "5.882302377632383\n",
            "11.033049843710053\n",
            "3.4145072526150058\n",
            "13.323132873509635\n",
            "6.440716140094969\n",
            "\n",
            "23\n",
            "231\n",
            "23\n",
            "2323\n",
            "231\n"
          ]
        }
      ]
    },
    {
      "cell_type": "code",
      "source": [
        "#importing predefined module\n",
        "import math\n",
        "print(math.sqrt(16))\n",
        "print(math.pi)"
      ],
      "metadata": {
        "colab": {
          "base_uri": "https://localhost:8080/"
        },
        "id": "fRUhYF8iu8hB",
        "outputId": "a1fbe5d7-f3b7-400b-f859-517322768755"
      },
      "execution_count": null,
      "outputs": [
        {
          "output_type": "stream",
          "name": "stdout",
          "text": [
            "4.0\n",
            "3.141592653589793\n"
          ]
        }
      ]
    },
    {
      "cell_type": "markdown",
      "source": [
        "# **Stack**"
      ],
      "metadata": {
        "id": "UTqLUr_6nnUf"
      }
    },
    {
      "cell_type": "code",
      "source": [
        "class Stack:\n",
        "  def __init__(self,size):\n",
        "    self.ListStack=[]\n",
        "    self.max_size=size\n",
        "\n",
        "  def push(self,data):\n",
        "    if self.isFull():\n",
        "      print('Satck is Full !!!')\n",
        "    else:\n",
        "      self.data=data\n",
        "      self.ListStack.append(self.data)\n",
        "\n",
        "  def display(self):\n",
        "      print('Stack : ',self.ListStack)\n",
        "\n",
        "  def peek(self):\n",
        "    if self.isEmpty():\n",
        "      print('Stack is Empty !!')\n",
        "    else:\n",
        "      print('Top Element : ',self.ListStack[-1])\n",
        "\n",
        "  def pop(self):\n",
        "    if self.isEmpty():\n",
        "      print('Stack is Empty !!')\n",
        "    else:\n",
        "      print(\"Popped Element : \",self.ListStack[-1])\n",
        "      self.ListStack.pop()\n",
        "\n",
        "  def isEmpty(self):\n",
        "    if self.ListStack == []:\n",
        "      return True\n",
        "    else:\n",
        "      return False\n",
        "\n",
        "  def isFull(self):\n",
        "    if len(self.ListStack)==self.max_size:\n",
        "      return True\n",
        "    else:\n",
        "      return False\n",
        "\n",
        "  def delete(self):\n",
        "    del self.ListStack\n",
        "    print('Stack Deleted !')\n",
        "\n",
        "if __name__ == '__main__':\n",
        "  size=int(input('Enter Size of Stack : '))\n",
        "  obj=Stack(size)\n",
        "  print('Stack is Created !')\n",
        "  ch=0\n",
        "  while ch!=7:\n",
        "    ch=int(input(\"\\n1.Create Stack\\n2.Push\\n3.Pop\\n4.Display\\n5.Peek\\n6.Is Empty ?\\n7.Delete Stack\\n8.Exit\\nEnter Your Choice : \"))\n",
        "    if ch==1:\n",
        "      size=int(input('Enter Size of Stack : '))\n",
        "      obj=Stack(size)\n",
        "      print('Stack is Created !')\n",
        "    elif ch==2:\n",
        "      item=int(input('\\nEnter Your Element : '))\n",
        "      obj.push(item)\n",
        "      print('Push Operation Done')\n",
        "    elif ch==3:\n",
        "      obj.pop()\n",
        "    elif ch==4:\n",
        "      obj.display()\n",
        "    elif ch==5:\n",
        "      obj.peek()\n",
        "    elif ch==6:\n",
        "      print(obj.isEmpty())\n",
        "    elif ch==7:\n",
        "      obj.delete()\n",
        "    elif ch==8:\n",
        "      break\n",
        "\n",
        "    else:\n",
        "      print('Enter Appropriate Option !!!')"
      ],
      "metadata": {
        "colab": {
          "base_uri": "https://localhost:8080/"
        },
        "id": "83uU73jRnu7U",
        "outputId": "b87f4f14-2218-44a2-a64f-1b47a91642ed"
      },
      "execution_count": null,
      "outputs": [
        {
          "name": "stdout",
          "output_type": "stream",
          "text": [
            "Stack is Created !\n",
            "\n",
            "1.Create Stack\n",
            "2.Push\n",
            "3.Pop\n",
            "4.Display\n",
            "5.Peek\n",
            "6.Is Empty ?\n",
            "7.Delete Stack\n",
            "8.Exit\n",
            "Enter Your Choice : 8\n"
          ]
        }
      ]
    },
    {
      "cell_type": "code",
      "source": [],
      "metadata": {
        "id": "TV8N6cjvS8nW"
      },
      "execution_count": null,
      "outputs": []
    }
  ]
}